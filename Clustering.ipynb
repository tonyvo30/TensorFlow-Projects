{
 "cells": [
  {
   "cell_type": "markdown",
   "metadata": {},
   "source": [
    "# Clustering\n",
    "\n",
    "Clustering is a Machine Learning technique that involves the grouping of data points. In theory, data points that are in the same group should have similar properties and/or features, while data points in different groups should have highly dissimilar properties and/or features.\n",
    "\n",
    "## Basic Algorithm for K-Means.\n",
    "- Step 1: Randomly pick K points to place K centroids\n",
    "- Step 2: Assign all the data points to the centroids by distance. The closest centroid to a point is the one it is assigned to.\n",
    "- Step 3: Average all the points belonging to each centroid to find the middle of those clusters (center of mass). Place the corresponding centroids into that position.\n",
    "- Step 4: Reassign every point once again to the closest centroid.\n",
    "- Step 5: Repeat steps 3-4 until no point changes which centroid it belongs to.\n",
    "\n",
    "## Hidden Markov Models\n",
    "\n",
    "\"The Hidden Markov Model is a finite set of states, each of which is associated with a (generally multidimensional) probability distribution []. Transitions among the states are governed by a set of probabilities called transition probabilities.\" (http://jedlik.phy.bme.hu/~gerjanos/HMM/node4.html)\n",
    "\n",
    "A hidden markov model works with probabilities to predict future events or states. In this section we will learn how to create a hidden markov model that can predict the weather."
   ]
  },
  {
   "cell_type": "markdown",
   "metadata": {},
   "source": [
    "### Data\n",
    "Let's start by discussing the type of data we use when we work with a hidden markov model. \n",
    "\n",
    "In the previous sections we worked with large datasets of 100's of different entries. For a markov model we are only interested in probability distributions that have to do with states. \n",
    "\n",
    "We can find these probabilities from large datasets or may already have these values. We'll run through an example in a second that should clear some things up, but let's discuss the components of a markov model.\n",
    "\n",
    "**States:** In each markov model we have a finite set of states. These states could be something like \"warm\" and \"cold\" or \"high\" and \"low\" or even \"red\", \"green\" and \"blue\". These states are \"hidden\" within the model, which means we do not direcly observe them.\n",
    "\n",
    "**Observations:** Each state has a particular outcome or observation associated with it based on a probability distribution. An example of this is the following: *On a hot day Tim has a 80% chance of being happy and a 20% chance of being sad.*\n",
    "\n",
    "**Transitions:** Each state will have a probability defining the likelyhood of transitioning to a different state. An example is the following: *a cold day has a 30% chance of being followed by a hot day and a 70% chance of being follwed by another cold day.*\n",
    "\n",
    "To create a hidden markov model we need.\n",
    "- States\n",
    "- Observation Distribution\n",
    "- Transition Distribution"
   ]
  },
  {
   "cell_type": "code",
   "execution_count": 2,
   "metadata": {},
   "outputs": [],
   "source": [
    "import tensorflow_probability as tfp  # We are using a different module from tensorflow this time\n",
    "import tensorflow as tf"
   ]
  },
  {
   "cell_type": "markdown",
   "metadata": {},
   "source": [
    "### Weather Model\n",
    "\n",
    "We will model a simple weather system and try to predict the temperature on each day given the following information.\n",
    "1. Cold days are encoded by a 0 and hot days are encoded by a 1.\n",
    "2. The first day in our sequence has an 80% chance of being cold.\n",
    "3. A cold day has a 30% chance of being followed by a hot day.\n",
    "4. A hot day has a 20% chance of being followed by a cold day.\n",
    "5. On each day the temperature is\n",
    " normally distributed with mean and standard deviation 0 and 5 on\n",
    " a cold day and mean and standard deviation 15 and 10 on a hot day."
   ]
  },
  {
   "cell_type": "code",
   "execution_count": 4,
   "metadata": {},
   "outputs": [],
   "source": [
    "tfd = tfp.distributions  # making a shortcut for later on\n",
    "# Refer to point 2 above\n",
    "initial_distribution = tfd.Categorical(probs=[0.8, 0.2]) # First day is 80% cold, or 20% warm\n",
    "# refer to points 3 and 4 above\n",
    "transition_distribution = tfd.Categorical(probs=[[0.7, 0.3],  # Cold->Cold is 70%, or Cold->Hot is 30%\n",
    "                                                 [0.2, 0.8]]) # Hot->Cold is 20%, or Hot->Hot is 80%\n",
    "# refer to point 5 above\n",
    "observation_distribution = tfd.Normal(loc=[0., 15.], # Mean is 0 for cold, 15 for hot\n",
    "                                      scale=[5., 10.]) # Std is 5 for cold, 10 for hot\n",
    "\n",
    "# the loc argument represents the mean and the scale is the standard devitation"
   ]
  },
  {
   "cell_type": "markdown",
   "metadata": {},
   "source": [
    "### Create Model\n",
    "\n",
    "The number of steps represents the number of days that we would like to predict information for. In this case we've chosen 7, an entire week."
   ]
  },
  {
   "cell_type": "code",
   "execution_count": 5,
   "metadata": {},
   "outputs": [],
   "source": [
    "model = tfd.HiddenMarkovModel(\n",
    "    initial_distribution=initial_distribution,\n",
    "    transition_distribution=transition_distribution,\n",
    "    observation_distribution=observation_distribution,\n",
    "    num_steps=7)"
   ]
  },
  {
   "cell_type": "markdown",
   "metadata": {},
   "source": [
    "### Getting Prediction\n",
    "\n",
    "To get the **expected temperatures** on each day we can do the following."
   ]
  },
  {
   "cell_type": "code",
   "execution_count": 9,
   "metadata": {},
   "outputs": [
    {
     "name": "stdout",
     "output_type": "stream",
     "text": [
      "[3.        5.9999995 7.4999995 8.25      8.625     8.812501  8.90625  ]\n"
     ]
    }
   ],
   "source": [
    "mean = model.mean()\n",
    "\n",
    "# due to the way TensorFlow works on a lower level we need to evaluate part of the graph\n",
    "# from within a session to see the value of this tensor\n",
    "\n",
    "# in the new version of tensorflow we need to use tf.compat.v1.Session() rather than just tf.Session()\n",
    "#with tf.compat.v1.Session() as sess:  \n",
    "print(mean.numpy())"
   ]
  },
  {
   "cell_type": "markdown",
   "metadata": {},
   "source": [
    "### Variation\n",
    "\n",
    "Lets change the distribution for the transition from cold to hot.\n",
    "- Cold day has a 50% chance of being followed by a hot day."
   ]
  },
  {
   "cell_type": "code",
   "execution_count": 10,
   "metadata": {},
   "outputs": [
    {
     "name": "stdout",
     "output_type": "stream",
     "text": [
      "[ 3.        8.4      10.02     10.506    10.651799 10.69554  10.708661]\n"
     ]
    }
   ],
   "source": [
    "tfd = tfp.distributions  # making a shortcut for later on\n",
    "# Refer to point 2 above\n",
    "initial_distribution = tfd.Categorical(probs=[0.8, 0.2]) # First day is 80% cold, or 20% warm\n",
    "# refer to points 3 and 4 above\n",
    "transition_distribution = tfd.Categorical(probs=[[0.5, 0.5],\n",
    "                                                 [0.2, 0.8]])\n",
    "# refer to point 5 above\n",
    "observation_distribution = tfd.Normal(loc=[0., 15.],\n",
    "                                      scale=[5., 10.])\n",
    "\n",
    "model = tfd.HiddenMarkovModel(\n",
    "    initial_distribution=initial_distribution,\n",
    "    transition_distribution=transition_distribution,\n",
    "    observation_distribution=observation_distribution,\n",
    "    num_steps=7)\n",
    "\n",
    "mean = model.mean()\n",
    "\n",
    "#with tf.compat.v1.Session() as sess:  \n",
    "print(mean.numpy())"
   ]
  },
  {
   "cell_type": "markdown",
   "metadata": {},
   "source": [
    "### Comparison\n",
    "\n",
    "Some key points to consider when comparing from the initial model and the modified model:\n",
    "1. Since the initial distribution is the same, the initial temperature stayed the same.\n",
    "2. Since we increased the chance that cold days change to hot days from 0.3 to 0.5, the mean temperature in the modified prediction in subsequent days are higher than that from the original prediction."
   ]
  }
 ],
 "metadata": {
  "kernelspec": {
   "display_name": "Python 3",
   "language": "python",
   "name": "python3"
  },
  "language_info": {
   "codemirror_mode": {
    "name": "ipython",
    "version": 3
   },
   "file_extension": ".py",
   "mimetype": "text/x-python",
   "name": "python",
   "nbconvert_exporter": "python",
   "pygments_lexer": "ipython3",
   "version": "3.8.6"
  },
  "orig_nbformat": 4
 },
 "nbformat": 4,
 "nbformat_minor": 2
}
