{
 "cells": [
  {
   "cell_type": "markdown",
   "metadata": {},
   "source": [
    "# Classification\n",
    "\n",
    "While linear regression predicts numerically (e.g. chance of surivival), classification is used to seperate data points into classes of different labels (e.g. what species). In this example we will use a TensorFlow estimator to classify flowers."
   ]
  },
  {
   "cell_type": "code",
   "execution_count": 1,
   "metadata": {},
   "outputs": [],
   "source": [
    "from __future__ import absolute_import, division, print_function, unicode_literals\n",
    "\n",
    "import pandas as pd\n",
    "\n",
    "import tensorflow as tf"
   ]
  },
  {
   "cell_type": "markdown",
   "metadata": {},
   "source": [
    "### Datasets\n",
    "This specific dataset seperates flowers into 3 different classes of species.\n",
    "- Setosa\n",
    "- Versicolor\n",
    "- Virginica\n",
    "\n",
    "The information about each flower is the following.\n",
    "- sepal length\n",
    "- sepal width\n",
    "- petal length\n",
    "- petal width"
   ]
  },
  {
   "cell_type": "code",
   "execution_count": 2,
   "metadata": {},
   "outputs": [],
   "source": [
    "CSV_COLUMN_NAMES = ['SepalLength', 'SepalWidth', 'PetalLength', 'PetalWidth', 'Species']\n",
    "SPECIES = ['Setosa', 'Versicolor', 'Virginica']\n",
    "# Lets define some constants to help us later on"
   ]
  },
  {
   "cell_type": "code",
   "execution_count": 3,
   "metadata": {},
   "outputs": [],
   "source": [
    "train_path = tf.keras.utils.get_file(\n",
    "    \"iris_training.csv\", \"https://storage.googleapis.com/download.tensorflow.org/data/iris_training.csv\")\n",
    "test_path = tf.keras.utils.get_file(\n",
    "    \"iris_test.csv\", \"https://storage.googleapis.com/download.tensorflow.org/data/iris_test.csv\")\n",
    "\n",
    "train = pd.read_csv(train_path, names=CSV_COLUMN_NAMES, header=0)\n",
    "test = pd.read_csv(test_path, names=CSV_COLUMN_NAMES, header=0)\n",
    "# Here we use keras (a module inside of TensorFlow) to grab our datasets and read them into a pandas dataframe"
   ]
  },
  {
   "cell_type": "markdown",
   "metadata": {},
   "source": [
    "Let's look at the data.\n",
    "\n",
    "The Species is numeric which is good for us since we don't need to convert it. The numbers correspond with our defined SPECIES list in [2]"
   ]
  },
  {
   "cell_type": "code",
   "execution_count": 4,
   "metadata": {},
   "outputs": [
    {
     "data": {
      "text/html": [
       "<div>\n",
       "<style scoped>\n",
       "    .dataframe tbody tr th:only-of-type {\n",
       "        vertical-align: middle;\n",
       "    }\n",
       "\n",
       "    .dataframe tbody tr th {\n",
       "        vertical-align: top;\n",
       "    }\n",
       "\n",
       "    .dataframe thead th {\n",
       "        text-align: right;\n",
       "    }\n",
       "</style>\n",
       "<table border=\"1\" class=\"dataframe\">\n",
       "  <thead>\n",
       "    <tr style=\"text-align: right;\">\n",
       "      <th></th>\n",
       "      <th>SepalLength</th>\n",
       "      <th>SepalWidth</th>\n",
       "      <th>PetalLength</th>\n",
       "      <th>PetalWidth</th>\n",
       "      <th>Species</th>\n",
       "    </tr>\n",
       "  </thead>\n",
       "  <tbody>\n",
       "    <tr>\n",
       "      <th>0</th>\n",
       "      <td>6.4</td>\n",
       "      <td>2.8</td>\n",
       "      <td>5.6</td>\n",
       "      <td>2.2</td>\n",
       "      <td>2</td>\n",
       "    </tr>\n",
       "    <tr>\n",
       "      <th>1</th>\n",
       "      <td>5.0</td>\n",
       "      <td>2.3</td>\n",
       "      <td>3.3</td>\n",
       "      <td>1.0</td>\n",
       "      <td>1</td>\n",
       "    </tr>\n",
       "    <tr>\n",
       "      <th>2</th>\n",
       "      <td>4.9</td>\n",
       "      <td>2.5</td>\n",
       "      <td>4.5</td>\n",
       "      <td>1.7</td>\n",
       "      <td>2</td>\n",
       "    </tr>\n",
       "    <tr>\n",
       "      <th>3</th>\n",
       "      <td>4.9</td>\n",
       "      <td>3.1</td>\n",
       "      <td>1.5</td>\n",
       "      <td>0.1</td>\n",
       "      <td>0</td>\n",
       "    </tr>\n",
       "    <tr>\n",
       "      <th>4</th>\n",
       "      <td>5.7</td>\n",
       "      <td>3.8</td>\n",
       "      <td>1.7</td>\n",
       "      <td>0.3</td>\n",
       "      <td>0</td>\n",
       "    </tr>\n",
       "  </tbody>\n",
       "</table>\n",
       "</div>"
      ],
      "text/plain": [
       "   SepalLength  SepalWidth  PetalLength  PetalWidth  Species\n",
       "0          6.4         2.8          5.6         2.2        2\n",
       "1          5.0         2.3          3.3         1.0        1\n",
       "2          4.9         2.5          4.5         1.7        2\n",
       "3          4.9         3.1          1.5         0.1        0\n",
       "4          5.7         3.8          1.7         0.3        0"
      ]
     },
     "execution_count": 4,
     "metadata": {},
     "output_type": "execute_result"
    }
   ],
   "source": [
    "train.head()"
   ]
  },
  {
   "cell_type": "markdown",
   "metadata": {},
   "source": [
    "Let's use the Species column as our label, so we pop it."
   ]
  },
  {
   "cell_type": "code",
   "execution_count": 5,
   "metadata": {},
   "outputs": [
    {
     "data": {
      "text/html": [
       "<div>\n",
       "<style scoped>\n",
       "    .dataframe tbody tr th:only-of-type {\n",
       "        vertical-align: middle;\n",
       "    }\n",
       "\n",
       "    .dataframe tbody tr th {\n",
       "        vertical-align: top;\n",
       "    }\n",
       "\n",
       "    .dataframe thead th {\n",
       "        text-align: right;\n",
       "    }\n",
       "</style>\n",
       "<table border=\"1\" class=\"dataframe\">\n",
       "  <thead>\n",
       "    <tr style=\"text-align: right;\">\n",
       "      <th></th>\n",
       "      <th>SepalLength</th>\n",
       "      <th>SepalWidth</th>\n",
       "      <th>PetalLength</th>\n",
       "      <th>PetalWidth</th>\n",
       "    </tr>\n",
       "  </thead>\n",
       "  <tbody>\n",
       "    <tr>\n",
       "      <th>0</th>\n",
       "      <td>6.4</td>\n",
       "      <td>2.8</td>\n",
       "      <td>5.6</td>\n",
       "      <td>2.2</td>\n",
       "    </tr>\n",
       "    <tr>\n",
       "      <th>1</th>\n",
       "      <td>5.0</td>\n",
       "      <td>2.3</td>\n",
       "      <td>3.3</td>\n",
       "      <td>1.0</td>\n",
       "    </tr>\n",
       "    <tr>\n",
       "      <th>2</th>\n",
       "      <td>4.9</td>\n",
       "      <td>2.5</td>\n",
       "      <td>4.5</td>\n",
       "      <td>1.7</td>\n",
       "    </tr>\n",
       "    <tr>\n",
       "      <th>3</th>\n",
       "      <td>4.9</td>\n",
       "      <td>3.1</td>\n",
       "      <td>1.5</td>\n",
       "      <td>0.1</td>\n",
       "    </tr>\n",
       "    <tr>\n",
       "      <th>4</th>\n",
       "      <td>5.7</td>\n",
       "      <td>3.8</td>\n",
       "      <td>1.7</td>\n",
       "      <td>0.3</td>\n",
       "    </tr>\n",
       "  </tbody>\n",
       "</table>\n",
       "</div>"
      ],
      "text/plain": [
       "   SepalLength  SepalWidth  PetalLength  PetalWidth\n",
       "0          6.4         2.8          5.6         2.2\n",
       "1          5.0         2.3          3.3         1.0\n",
       "2          4.9         2.5          4.5         1.7\n",
       "3          4.9         3.1          1.5         0.1\n",
       "4          5.7         3.8          1.7         0.3"
      ]
     },
     "execution_count": 5,
     "metadata": {},
     "output_type": "execute_result"
    }
   ],
   "source": [
    "train_y = train.pop('Species')\n",
    "test_y = test.pop('Species')\n",
    "train.head() # the species column is now gone"
   ]
  },
  {
   "cell_type": "code",
   "execution_count": 6,
   "metadata": {},
   "outputs": [
    {
     "data": {
      "text/plain": [
       "(120, 4)"
      ]
     },
     "execution_count": 6,
     "metadata": {},
     "output_type": "execute_result"
    }
   ],
   "source": [
    "train.shape  # we have 120 entires with 4 features"
   ]
  },
  {
   "cell_type": "markdown",
   "metadata": {},
   "source": [
    "### Input function"
   ]
  },
  {
   "cell_type": "code",
   "execution_count": 7,
   "metadata": {},
   "outputs": [],
   "source": [
    "def input_fn(features, labels, training=True, batch_size=256):\n",
    "    # Convert the inputs to a Dataset.\n",
    "    dataset = tf.data.Dataset.from_tensor_slices((dict(features), labels))\n",
    "\n",
    "    # Shuffle and repeat if you are in training mode.\n",
    "    if training:\n",
    "        dataset = dataset.shuffle(1000).repeat()\n",
    "    \n",
    "    return dataset.batch(batch_size)"
   ]
  },
  {
   "cell_type": "markdown",
   "metadata": {},
   "source": [
    "### Feature Columns"
   ]
  },
  {
   "cell_type": "code",
   "execution_count": 8,
   "metadata": {},
   "outputs": [
    {
     "name": "stdout",
     "output_type": "stream",
     "text": [
      "WARNING:tensorflow:From C:\\temp\\ipykernel_30200\\3703507642.py:4: numeric_column (from tensorflow.python.feature_column.feature_column_v2) is deprecated and will be removed in a future version.\n",
      "Instructions for updating:\n",
      "Use Keras preprocessing layers instead, either directly or via the `tf.keras.utils.FeatureSpace` utility. Each of `tf.feature_column.*` has a functional equivalent in `tf.keras.layers` for feature preprocessing when training a Keras model.\n",
      "[NumericColumn(key='SepalLength', shape=(1,), default_value=None, dtype=tf.float32, normalizer_fn=None), NumericColumn(key='SepalWidth', shape=(1,), default_value=None, dtype=tf.float32, normalizer_fn=None), NumericColumn(key='PetalLength', shape=(1,), default_value=None, dtype=tf.float32, normalizer_fn=None), NumericColumn(key='PetalWidth', shape=(1,), default_value=None, dtype=tf.float32, normalizer_fn=None)]\n"
     ]
    }
   ],
   "source": [
    "# Feature columns describe how to use the input.\n",
    "my_feature_columns = []\n",
    "for key in train.keys():\n",
    "    my_feature_columns.append(tf.feature_column.numeric_column(key=key))\n",
    "print(my_feature_columns)"
   ]
  },
  {
   "cell_type": "markdown",
   "metadata": {},
   "source": [
    "### Building the model\n",
    "\n",
    "For classification tasks, there are different estimators/models.\n",
    "Some options are:\n",
    "- ```DNNClassifier``` (Deep Neural Network)\n",
    "- ```LinearClassifier```\n",
    "\n",
    "DNN seems to be the best choice out of the two since we may not find linear correspondence in our data."
   ]
  },
  {
   "cell_type": "code",
   "execution_count": 9,
   "metadata": {},
   "outputs": [
    {
     "name": "stdout",
     "output_type": "stream",
     "text": [
      "WARNING:tensorflow:From C:\\temp\\ipykernel_30200\\2221267581.py:2: DNNClassifierV2.__init__ (from tensorflow_estimator.python.estimator.canned.dnn) is deprecated and will be removed in a future version.\n",
      "Instructions for updating:\n",
      "Use tf.keras instead.\n",
      "WARNING:tensorflow:From D:\\Program Files\\Python\\lib\\site-packages\\tensorflow_estimator\\python\\estimator\\head\\head_utils.py:59: MultiClassHead.__init__ (from tensorflow_estimator.python.estimator.head.multi_class_head) is deprecated and will be removed in a future version.\n",
      "Instructions for updating:\n",
      "Use tf.keras instead.\n",
      "WARNING:tensorflow:From D:\\Program Files\\Python\\lib\\site-packages\\tensorflow_estimator\\python\\estimator\\canned\\dnn.py:759: Estimator.__init__ (from tensorflow_estimator.python.estimator.estimator) is deprecated and will be removed in a future version.\n",
      "Instructions for updating:\n",
      "Use tf.keras instead.\n",
      "WARNING:tensorflow:From D:\\Program Files\\Python\\lib\\site-packages\\tensorflow_estimator\\python\\estimator\\estimator.py:1844: RunConfig.__init__ (from tensorflow_estimator.python.estimator.run_config) is deprecated and will be removed in a future version.\n",
      "Instructions for updating:\n",
      "Use tf.keras instead.\n",
      "INFO:tensorflow:Using default config.\n",
      "WARNING:tensorflow:Using temporary folder as model directory: C:\\temp\\tmpnyvggdf3\n",
      "INFO:tensorflow:Using config: {'_model_dir': 'C:\\\\temp\\\\tmpnyvggdf3', '_tf_random_seed': None, '_save_summary_steps': 100, '_save_checkpoints_steps': None, '_save_checkpoints_secs': 600, '_session_config': allow_soft_placement: true\n",
      "graph_options {\n",
      "  rewrite_options {\n",
      "    meta_optimizer_iterations: ONE\n",
      "  }\n",
      "}\n",
      ", '_keep_checkpoint_max': 5, '_keep_checkpoint_every_n_hours': 10000, '_log_step_count_steps': 100, '_train_distribute': None, '_device_fn': None, '_protocol': None, '_eval_distribute': None, '_experimental_distribute': None, '_experimental_max_worker_delay_secs': None, '_session_creation_timeout_secs': 7200, '_checkpoint_save_graph_def': True, '_service': None, '_cluster_spec': ClusterSpec({}), '_task_type': 'worker', '_task_id': 0, '_global_id_in_cluster': 0, '_master': '', '_evaluation_master': '', '_is_chief': True, '_num_ps_replicas': 0, '_num_worker_replicas': 1}\n"
     ]
    }
   ],
   "source": [
    "# Build a DNN with 2 hidden layers with 30 and 10 hidden nodes each.\n",
    "classifier = tf.estimator.DNNClassifier(\n",
    "    feature_columns=my_feature_columns,\n",
    "    # Two hidden layers of 30 and 10 nodes respectively.\n",
    "    hidden_units=[30, 10],\n",
    "    # The model must choose between 3 classes.\n",
    "    n_classes=3)"
   ]
  },
  {
   "cell_type": "markdown",
   "metadata": {},
   "source": [
    "### Training\n",
    "\n",
    "Instead of epochs where we define how much times it sees the dataset, we're using steps which means it looks at an amount we set rather than literation of the dataset."
   ]
  },
  {
   "cell_type": "code",
   "execution_count": 10,
   "metadata": {},
   "outputs": [
    {
     "name": "stdout",
     "output_type": "stream",
     "text": [
      "WARNING:tensorflow:From D:\\Program Files\\Python\\lib\\site-packages\\tensorflow_estimator\\python\\estimator\\estimator.py:385: StopAtStepHook.__init__ (from tensorflow.python.training.basic_session_run_hooks) is deprecated and will be removed in a future version.\n",
      "Instructions for updating:\n",
      "Use tf.keras instead.\n",
      "INFO:tensorflow:Calling model_fn.\n",
      "WARNING:tensorflow:From D:\\Program Files\\Python\\lib\\site-packages\\keras\\src\\optimizers\\legacy\\adagrad.py:93: calling Constant.__init__ (from tensorflow.python.ops.init_ops) with dtype is deprecated and will be removed in a future version.\n",
      "Instructions for updating:\n",
      "Call initializer instance with the dtype argument instead of passing it to the constructor\n",
      "WARNING:tensorflow:From D:\\Program Files\\Python\\lib\\site-packages\\tensorflow_estimator\\python\\estimator\\model_fn.py:250: EstimatorSpec.__new__ (from tensorflow_estimator.python.estimator.model_fn) is deprecated and will be removed in a future version.\n",
      "Instructions for updating:\n",
      "Use tf.keras instead.\n",
      "INFO:tensorflow:Done calling model_fn.\n",
      "WARNING:tensorflow:From D:\\Program Files\\Python\\lib\\site-packages\\tensorflow_estimator\\python\\estimator\\estimator.py:1416: NanTensorHook.__init__ (from tensorflow.python.training.basic_session_run_hooks) is deprecated and will be removed in a future version.\n",
      "Instructions for updating:\n",
      "Use tf.keras instead.\n",
      "WARNING:tensorflow:From D:\\Program Files\\Python\\lib\\site-packages\\tensorflow_estimator\\python\\estimator\\estimator.py:1419: LoggingTensorHook.__init__ (from tensorflow.python.training.basic_session_run_hooks) is deprecated and will be removed in a future version.\n",
      "Instructions for updating:\n",
      "Use tf.keras instead.\n",
      "WARNING:tensorflow:From D:\\Program Files\\Python\\lib\\site-packages\\tensorflow\\python\\training\\basic_session_run_hooks.py:232: SecondOrStepTimer.__init__ (from tensorflow.python.training.basic_session_run_hooks) is deprecated and will be removed in a future version.\n",
      "Instructions for updating:\n",
      "Use tf.keras instead.\n",
      "WARNING:tensorflow:From D:\\Program Files\\Python\\lib\\site-packages\\tensorflow_estimator\\python\\estimator\\estimator.py:1456: CheckpointSaverHook.__init__ (from tensorflow.python.training.basic_session_run_hooks) is deprecated and will be removed in a future version.\n",
      "Instructions for updating:\n",
      "Use tf.keras instead.\n",
      "INFO:tensorflow:Create CheckpointSaverHook.\n",
      "WARNING:tensorflow:From D:\\Program Files\\Python\\lib\\site-packages\\tensorflow\\python\\training\\monitored_session.py:579: StepCounterHook.__init__ (from tensorflow.python.training.basic_session_run_hooks) is deprecated and will be removed in a future version.\n",
      "Instructions for updating:\n",
      "Use tf.keras instead.\n",
      "WARNING:tensorflow:From D:\\Program Files\\Python\\lib\\site-packages\\tensorflow\\python\\training\\monitored_session.py:586: SummarySaverHook.__init__ (from tensorflow.python.training.basic_session_run_hooks) is deprecated and will be removed in a future version.\n",
      "Instructions for updating:\n",
      "Use tf.keras instead.\n",
      "INFO:tensorflow:Graph was finalized.\n",
      "INFO:tensorflow:Running local_init_op.\n",
      "INFO:tensorflow:Done running local_init_op.\n",
      "INFO:tensorflow:Calling checkpoint listeners before saving checkpoint 0...\n",
      "INFO:tensorflow:Saving checkpoints for 0 into C:\\temp\\tmpnyvggdf3\\model.ckpt.\n",
      "INFO:tensorflow:Calling checkpoint listeners after saving checkpoint 0...\n",
      "WARNING:tensorflow:From D:\\Program Files\\Python\\lib\\site-packages\\tensorflow\\python\\training\\monitored_session.py:1455: SessionRunArgs.__new__ (from tensorflow.python.training.session_run_hook) is deprecated and will be removed in a future version.\n",
      "Instructions for updating:\n",
      "Use tf.keras instead.\n",
      "WARNING:tensorflow:From D:\\Program Files\\Python\\lib\\site-packages\\tensorflow\\python\\training\\monitored_session.py:1454: SessionRunContext.__init__ (from tensorflow.python.training.session_run_hook) is deprecated and will be removed in a future version.\n",
      "Instructions for updating:\n",
      "Use tf.keras instead.\n",
      "WARNING:tensorflow:From D:\\Program Files\\Python\\lib\\site-packages\\tensorflow\\python\\training\\monitored_session.py:1474: SessionRunValues.__new__ (from tensorflow.python.training.session_run_hook) is deprecated and will be removed in a future version.\n",
      "Instructions for updating:\n",
      "Use tf.keras instead.\n",
      "INFO:tensorflow:loss = 1.048369, step = 0\n",
      "INFO:tensorflow:global_step/sec: 962.716\n",
      "INFO:tensorflow:loss = 0.8594037, step = 100 (0.104 sec)\n",
      "INFO:tensorflow:global_step/sec: 1470.6\n",
      "INFO:tensorflow:loss = 0.8047662, step = 200 (0.068 sec)\n",
      "INFO:tensorflow:global_step/sec: 1587.33\n",
      "INFO:tensorflow:loss = 0.7560087, step = 300 (0.063 sec)\n",
      "INFO:tensorflow:global_step/sec: 1612.9\n",
      "INFO:tensorflow:loss = 0.72516316, step = 400 (0.062 sec)\n",
      "INFO:tensorflow:global_step/sec: 1538.47\n",
      "INFO:tensorflow:loss = 0.70859444, step = 500 (0.065 sec)\n",
      "INFO:tensorflow:global_step/sec: 1538.45\n",
      "INFO:tensorflow:loss = 0.6843536, step = 600 (0.065 sec)\n",
      "INFO:tensorflow:global_step/sec: 1562.5\n",
      "INFO:tensorflow:loss = 0.6933486, step = 700 (0.064 sec)\n",
      "INFO:tensorflow:global_step/sec: 1428.57\n",
      "INFO:tensorflow:loss = 0.66940755, step = 800 (0.070 sec)\n",
      "INFO:tensorflow:global_step/sec: 1515.15\n",
      "INFO:tensorflow:loss = 0.65302086, step = 900 (0.066 sec)\n",
      "INFO:tensorflow:global_step/sec: 1562.51\n",
      "INFO:tensorflow:loss = 0.6603365, step = 1000 (0.064 sec)\n",
      "INFO:tensorflow:global_step/sec: 1587.29\n",
      "INFO:tensorflow:loss = 0.6562569, step = 1100 (0.063 sec)\n",
      "INFO:tensorflow:global_step/sec: 1587.3\n",
      "INFO:tensorflow:loss = 0.63166314, step = 1200 (0.063 sec)\n",
      "INFO:tensorflow:global_step/sec: 1587.3\n",
      "INFO:tensorflow:loss = 0.6362729, step = 1300 (0.063 sec)\n",
      "INFO:tensorflow:global_step/sec: 1562.51\n",
      "INFO:tensorflow:loss = 0.6054141, step = 1400 (0.063 sec)\n",
      "INFO:tensorflow:global_step/sec: 1562.51\n",
      "INFO:tensorflow:loss = 0.5979806, step = 1500 (0.065 sec)\n",
      "INFO:tensorflow:global_step/sec: 1515.12\n",
      "INFO:tensorflow:loss = 0.59743845, step = 1600 (0.066 sec)\n",
      "INFO:tensorflow:global_step/sec: 1492.55\n",
      "INFO:tensorflow:loss = 0.58795786, step = 1700 (0.068 sec)\n",
      "INFO:tensorflow:global_step/sec: 877.191\n",
      "INFO:tensorflow:loss = 0.57795906, step = 1800 (0.113 sec)\n",
      "INFO:tensorflow:global_step/sec: 1538.46\n",
      "INFO:tensorflow:loss = 0.58420527, step = 1900 (0.065 sec)\n",
      "INFO:tensorflow:global_step/sec: 1562.5\n",
      "INFO:tensorflow:loss = 0.57809687, step = 2000 (0.064 sec)\n",
      "INFO:tensorflow:global_step/sec: 1449.27\n",
      "INFO:tensorflow:loss = 0.5737349, step = 2100 (0.070 sec)\n",
      "INFO:tensorflow:global_step/sec: 1449.3\n",
      "INFO:tensorflow:loss = 0.54133403, step = 2200 (0.068 sec)\n",
      "INFO:tensorflow:global_step/sec: 1515.11\n",
      "INFO:tensorflow:loss = 0.5640367, step = 2300 (0.066 sec)\n",
      "INFO:tensorflow:global_step/sec: 1515.17\n",
      "INFO:tensorflow:loss = 0.55574703, step = 2400 (0.065 sec)\n",
      "INFO:tensorflow:global_step/sec: 1562.52\n",
      "INFO:tensorflow:loss = 0.5318216, step = 2500 (0.065 sec)\n",
      "INFO:tensorflow:global_step/sec: 1538.47\n",
      "INFO:tensorflow:loss = 0.5390268, step = 2600 (0.064 sec)\n",
      "INFO:tensorflow:global_step/sec: 1587.28\n",
      "INFO:tensorflow:loss = 0.53645056, step = 2700 (0.064 sec)\n",
      "INFO:tensorflow:global_step/sec: 1562.5\n",
      "INFO:tensorflow:loss = 0.5548053, step = 2800 (0.064 sec)\n",
      "INFO:tensorflow:global_step/sec: 1587.31\n",
      "INFO:tensorflow:loss = 0.5192702, step = 2900 (0.063 sec)\n",
      "INFO:tensorflow:global_step/sec: 1587.3\n",
      "INFO:tensorflow:loss = 0.5315592, step = 3000 (0.063 sec)\n",
      "INFO:tensorflow:global_step/sec: 1587.31\n",
      "INFO:tensorflow:loss = 0.51981455, step = 3100 (0.063 sec)\n",
      "INFO:tensorflow:global_step/sec: 1587.31\n",
      "INFO:tensorflow:loss = 0.4954971, step = 3200 (0.063 sec)\n",
      "INFO:tensorflow:global_step/sec: 1612.89\n",
      "INFO:tensorflow:loss = 0.49912423, step = 3300 (0.062 sec)\n",
      "INFO:tensorflow:global_step/sec: 1492.53\n",
      "INFO:tensorflow:loss = 0.5201385, step = 3400 (0.067 sec)\n",
      "INFO:tensorflow:global_step/sec: 1587.32\n",
      "INFO:tensorflow:loss = 0.49497676, step = 3500 (0.063 sec)\n",
      "INFO:tensorflow:global_step/sec: 1562.49\n",
      "INFO:tensorflow:loss = 0.49828252, step = 3600 (0.064 sec)\n",
      "INFO:tensorflow:global_step/sec: 1587.3\n",
      "INFO:tensorflow:loss = 0.49366322, step = 3700 (0.063 sec)\n",
      "INFO:tensorflow:global_step/sec: 1587.3\n",
      "INFO:tensorflow:loss = 0.5062345, step = 3800 (0.063 sec)\n",
      "INFO:tensorflow:global_step/sec: 1587.29\n",
      "INFO:tensorflow:loss = 0.48666677, step = 3900 (0.063 sec)\n",
      "INFO:tensorflow:global_step/sec: 1587.31\n",
      "INFO:tensorflow:loss = 0.4722985, step = 4000 (0.063 sec)\n",
      "INFO:tensorflow:global_step/sec: 1587.3\n",
      "INFO:tensorflow:loss = 0.4799061, step = 4100 (0.063 sec)\n",
      "INFO:tensorflow:global_step/sec: 1587.29\n",
      "INFO:tensorflow:loss = 0.47767812, step = 4200 (0.063 sec)\n",
      "INFO:tensorflow:global_step/sec: 1587.3\n",
      "INFO:tensorflow:loss = 0.4673013, step = 4300 (0.063 sec)\n",
      "INFO:tensorflow:global_step/sec: 1538.49\n",
      "INFO:tensorflow:loss = 0.45953816, step = 4400 (0.065 sec)\n",
      "INFO:tensorflow:global_step/sec: 1587.31\n",
      "INFO:tensorflow:loss = 0.46229845, step = 4500 (0.063 sec)\n",
      "INFO:tensorflow:global_step/sec: 1587.28\n",
      "INFO:tensorflow:loss = 0.4840374, step = 4600 (0.063 sec)\n",
      "INFO:tensorflow:global_step/sec: 1612.91\n",
      "INFO:tensorflow:loss = 0.45598608, step = 4700 (0.062 sec)\n",
      "INFO:tensorflow:global_step/sec: 1599.76\n",
      "INFO:tensorflow:loss = 0.45095396, step = 4800 (0.063 sec)\n",
      "INFO:tensorflow:global_step/sec: 1587.28\n",
      "INFO:tensorflow:loss = 0.46679574, step = 4900 (0.063 sec)\n",
      "INFO:tensorflow:global_step/sec: 1587.32\n",
      "INFO:tensorflow:loss = 0.4486856, step = 5000 (0.063 sec)\n",
      "INFO:tensorflow:global_step/sec: 1515.14\n",
      "INFO:tensorflow:loss = 0.44289166, step = 5100 (0.066 sec)\n",
      "INFO:tensorflow:global_step/sec: 1587.29\n",
      "INFO:tensorflow:loss = 0.44808722, step = 5200 (0.063 sec)\n",
      "INFO:tensorflow:global_step/sec: 1587.32\n",
      "INFO:tensorflow:loss = 0.43106988, step = 5300 (0.063 sec)\n",
      "INFO:tensorflow:global_step/sec: 1562.5\n",
      "INFO:tensorflow:loss = 0.44081467, step = 5400 (0.064 sec)\n",
      "INFO:tensorflow:global_step/sec: 1587.3\n",
      "INFO:tensorflow:loss = 0.44737294, step = 5500 (0.063 sec)\n",
      "INFO:tensorflow:global_step/sec: 1612.89\n",
      "INFO:tensorflow:loss = 0.44581568, step = 5600 (0.062 sec)\n",
      "INFO:tensorflow:global_step/sec: 1587.31\n",
      "INFO:tensorflow:loss = 0.42795178, step = 5700 (0.063 sec)\n",
      "INFO:tensorflow:global_step/sec: 1612.91\n",
      "INFO:tensorflow:loss = 0.41777384, step = 5800 (0.062 sec)\n",
      "INFO:tensorflow:global_step/sec: 1574.54\n",
      "INFO:tensorflow:loss = 0.4173229, step = 5900 (0.064 sec)\n",
      "INFO:tensorflow:global_step/sec: 1587.31\n",
      "INFO:tensorflow:loss = 0.42658263, step = 6000 (0.063 sec)\n",
      "INFO:tensorflow:global_step/sec: 1587.3\n",
      "INFO:tensorflow:loss = 0.42588484, step = 6100 (0.063 sec)\n",
      "INFO:tensorflow:global_step/sec: 1562.48\n",
      "INFO:tensorflow:loss = 0.4129367, step = 6200 (0.064 sec)\n",
      "INFO:tensorflow:global_step/sec: 1562.51\n",
      "INFO:tensorflow:loss = 0.41755673, step = 6300 (0.064 sec)\n",
      "INFO:tensorflow:global_step/sec: 1587.3\n",
      "INFO:tensorflow:loss = 0.43401024, step = 6400 (0.063 sec)\n",
      "INFO:tensorflow:global_step/sec: 1587.3\n",
      "INFO:tensorflow:loss = 0.40894425, step = 6500 (0.063 sec)\n",
      "INFO:tensorflow:global_step/sec: 1587.3\n",
      "INFO:tensorflow:loss = 0.4130469, step = 6600 (0.063 sec)\n",
      "INFO:tensorflow:global_step/sec: 1562.49\n",
      "INFO:tensorflow:loss = 0.42408362, step = 6700 (0.064 sec)\n",
      "INFO:tensorflow:global_step/sec: 1515.15\n",
      "INFO:tensorflow:loss = 0.42442364, step = 6800 (0.066 sec)\n",
      "INFO:tensorflow:global_step/sec: 1562.51\n",
      "INFO:tensorflow:loss = 0.40477046, step = 6900 (0.063 sec)\n",
      "INFO:tensorflow:global_step/sec: 1587.28\n",
      "INFO:tensorflow:loss = 0.41685036, step = 7000 (0.064 sec)\n",
      "INFO:tensorflow:global_step/sec: 1587.32\n",
      "INFO:tensorflow:loss = 0.4164291, step = 7100 (0.063 sec)\n",
      "INFO:tensorflow:global_step/sec: 1587.3\n",
      "INFO:tensorflow:loss = 0.40600607, step = 7200 (0.063 sec)\n",
      "INFO:tensorflow:global_step/sec: 1587.3\n",
      "INFO:tensorflow:loss = 0.39867175, step = 7300 (0.063 sec)\n",
      "INFO:tensorflow:global_step/sec: 1587.3\n",
      "INFO:tensorflow:loss = 0.38108516, step = 7400 (0.063 sec)\n",
      "INFO:tensorflow:global_step/sec: 1513.66\n",
      "INFO:tensorflow:loss = 0.3946241, step = 7500 (0.066 sec)\n",
      "INFO:tensorflow:global_step/sec: 1540\n",
      "INFO:tensorflow:loss = 0.40082753, step = 7600 (0.065 sec)\n",
      "INFO:tensorflow:global_step/sec: 1612.9\n",
      "INFO:tensorflow:loss = 0.38970387, step = 7700 (0.062 sec)\n",
      "INFO:tensorflow:global_step/sec: 1562.5\n",
      "INFO:tensorflow:loss = 0.39281955, step = 7800 (0.064 sec)\n",
      "INFO:tensorflow:global_step/sec: 1587.3\n",
      "INFO:tensorflow:loss = 0.37047803, step = 7900 (0.063 sec)\n",
      "INFO:tensorflow:global_step/sec: 1587.3\n",
      "INFO:tensorflow:loss = 0.39025754, step = 8000 (0.063 sec)\n",
      "INFO:tensorflow:global_step/sec: 1562.49\n",
      "INFO:tensorflow:loss = 0.3792416, step = 8100 (0.064 sec)\n",
      "INFO:tensorflow:global_step/sec: 1587.3\n",
      "INFO:tensorflow:loss = 0.38703555, step = 8200 (0.063 sec)\n",
      "INFO:tensorflow:global_step/sec: 1587.31\n",
      "INFO:tensorflow:loss = 0.38875487, step = 8300 (0.063 sec)\n",
      "INFO:tensorflow:global_step/sec: 1562.5\n",
      "INFO:tensorflow:loss = 0.3800199, step = 8400 (0.064 sec)\n",
      "INFO:tensorflow:global_step/sec: 1562.51\n",
      "INFO:tensorflow:loss = 0.3893078, step = 8500 (0.064 sec)\n",
      "INFO:tensorflow:global_step/sec: 1562.51\n",
      "INFO:tensorflow:loss = 0.3791482, step = 8600 (0.064 sec)\n",
      "INFO:tensorflow:global_step/sec: 1587.3\n",
      "INFO:tensorflow:loss = 0.37609252, step = 8700 (0.063 sec)\n",
      "INFO:tensorflow:global_step/sec: 1587.3\n",
      "INFO:tensorflow:loss = 0.3645463, step = 8800 (0.063 sec)\n",
      "INFO:tensorflow:global_step/sec: 1612.91\n",
      "INFO:tensorflow:loss = 0.39182204, step = 8900 (0.062 sec)\n",
      "INFO:tensorflow:global_step/sec: 1612.89\n",
      "INFO:tensorflow:loss = 0.3713494, step = 9000 (0.062 sec)\n",
      "INFO:tensorflow:global_step/sec: 1587.31\n",
      "INFO:tensorflow:loss = 0.36059287, step = 9100 (0.063 sec)\n",
      "INFO:tensorflow:global_step/sec: 1562.49\n",
      "INFO:tensorflow:loss = 0.35795996, step = 9200 (0.064 sec)\n",
      "INFO:tensorflow:global_step/sec: 1587.31\n",
      "INFO:tensorflow:loss = 0.36553556, step = 9300 (0.063 sec)\n",
      "INFO:tensorflow:global_step/sec: 1612.88\n",
      "INFO:tensorflow:loss = 0.36699504, step = 9400 (0.062 sec)\n",
      "INFO:tensorflow:global_step/sec: 1587.28\n",
      "INFO:tensorflow:loss = 0.36315092, step = 9500 (0.063 sec)\n",
      "INFO:tensorflow:global_step/sec: 1587.34\n",
      "INFO:tensorflow:loss = 0.36269656, step = 9600 (0.063 sec)\n",
      "INFO:tensorflow:global_step/sec: 1612.88\n",
      "INFO:tensorflow:loss = 0.36096016, step = 9700 (0.062 sec)\n",
      "INFO:tensorflow:global_step/sec: 1587.31\n",
      "INFO:tensorflow:loss = 0.3579363, step = 9800 (0.063 sec)\n",
      "INFO:tensorflow:global_step/sec: 1587.32\n",
      "INFO:tensorflow:loss = 0.35940924, step = 9900 (0.063 sec)\n",
      "INFO:tensorflow:Calling checkpoint listeners before saving checkpoint 10000...\n",
      "INFO:tensorflow:Saving checkpoints for 10000 into C:\\temp\\tmpnyvggdf3\\model.ckpt.\n",
      "INFO:tensorflow:Calling checkpoint listeners after saving checkpoint 10000...\n",
      "INFO:tensorflow:Loss for final step: 0.35315618.\n"
     ]
    },
    {
     "data": {
      "text/plain": [
       "<tensorflow_estimator.python.estimator.canned.dnn.DNNClassifierV2 at 0x19c31ec6fa0>"
      ]
     },
     "execution_count": 10,
     "metadata": {},
     "output_type": "execute_result"
    }
   ],
   "source": [
    "classifier.train(\n",
    "    input_fn=lambda: input_fn(train, train_y, training=True),\n",
    "    steps=10000)\n",
    "# We include a lambda to avoid creating an inner function previously"
   ]
  },
  {
   "cell_type": "markdown",
   "metadata": {},
   "source": [
    "### Evaluation\n",
    "\n",
    "No steps because we only need to run it once for evaluation."
   ]
  },
  {
   "cell_type": "code",
   "execution_count": 11,
   "metadata": {},
   "outputs": [
    {
     "name": "stdout",
     "output_type": "stream",
     "text": [
      "INFO:tensorflow:Calling model_fn.\n"
     ]
    },
    {
     "name": "stdout",
     "output_type": "stream",
     "text": [
      "INFO:tensorflow:Done calling model_fn.\n",
      "INFO:tensorflow:Starting evaluation at 2023-10-04T16:40:26\n",
      "WARNING:tensorflow:From D:\\Program Files\\Python\\lib\\site-packages\\tensorflow\\python\\training\\evaluation.py:260: FinalOpsHook.__init__ (from tensorflow.python.training.basic_session_run_hooks) is deprecated and will be removed in a future version.\n",
      "Instructions for updating:\n",
      "Use tf.keras instead.\n",
      "INFO:tensorflow:Graph was finalized.\n",
      "INFO:tensorflow:Restoring parameters from C:\\temp\\tmpnyvggdf3\\model.ckpt-10000\n",
      "INFO:tensorflow:Running local_init_op.\n",
      "INFO:tensorflow:Done running local_init_op.\n",
      "INFO:tensorflow:Inference Time : 0.75922s\n",
      "INFO:tensorflow:Finished evaluation at 2023-10-04-16:40:27\n",
      "INFO:tensorflow:Saving dict for global step 10000: accuracy = 0.76666665, average_loss = 0.4485658, global_step = 10000, loss = 0.4485658\n",
      "INFO:tensorflow:Saving 'checkpoint_path' summary for global step 10000: C:\\temp\\tmpnyvggdf3\\model.ckpt-10000\n",
      "\n",
      "Test set accuracy: 0.767\n",
      "\n"
     ]
    }
   ],
   "source": [
    "eval_result = classifier.evaluate(\n",
    "    input_fn=lambda: input_fn(test, test_y, training=False))\n",
    "\n",
    "print('\\nTest set accuracy: {accuracy:0.3f}\\n'.format(**eval_result))"
   ]
  },
  {
   "cell_type": "markdown",
   "metadata": {},
   "source": [
    "## Prediction\n",
    "\n",
    "In this code block, we're inputting numerical features (i.e. sepal length and width and petal length and width) and getting a prediction based off of those inputs. This obviously can be predicted in bulk using a list/dataframe."
   ]
  },
  {
   "cell_type": "code",
   "execution_count": 12,
   "metadata": {},
   "outputs": [
    {
     "name": "stdout",
     "output_type": "stream",
     "text": [
      "Please type numeric values as prompted.\n",
      "INFO:tensorflow:Calling model_fn.\n",
      "WARNING:tensorflow:From D:\\Program Files\\Python\\lib\\site-packages\\tensorflow_estimator\\python\\estimator\\head\\base_head.py:786: ClassificationOutput.__init__ (from tensorflow.python.saved_model.model_utils.export_output) is deprecated and will be removed in a future version.\n",
      "Instructions for updating:\n",
      "Use tf.keras instead.\n",
      "WARNING:tensorflow:From D:\\Program Files\\Python\\lib\\site-packages\\tensorflow_estimator\\python\\estimator\\head\\multi_class_head.py:455: PredictOutput.__init__ (from tensorflow.python.saved_model.model_utils.export_output) is deprecated and will be removed in a future version.\n",
      "Instructions for updating:\n",
      "Use tf.keras instead.\n",
      "INFO:tensorflow:Done calling model_fn.\n",
      "INFO:tensorflow:Graph was finalized.\n",
      "INFO:tensorflow:Restoring parameters from C:\\temp\\tmpnyvggdf3\\model.ckpt-10000\n",
      "INFO:tensorflow:Running local_init_op.\n",
      "INFO:tensorflow:Done running local_init_op.\n",
      "Prediction is \"Virginica\" (75.8%)\n"
     ]
    }
   ],
   "source": [
    "def input_fn(features, batch_size=256):\n",
    "    # Convert the inputs to a Dataset without labels.\n",
    "    return tf.data.Dataset.from_tensor_slices(dict(features)).batch(batch_size)\n",
    "\n",
    "features = ['SepalLength', 'SepalWidth', 'PetalLength', 'PetalWidth']\n",
    "predict = {}\n",
    "\n",
    "print(\"Please type numeric values as prompted.\")\n",
    "for feature in features:\n",
    "  valid = True\n",
    "  while valid: \n",
    "    val = input(feature + \": \")\n",
    "    if not val.isdigit(): valid = False\n",
    "\n",
    "  predict[feature] = [float(val)]\n",
    "\n",
    "predictions = classifier.predict(input_fn=lambda: input_fn(predict))\n",
    "for pred_dict in predictions:\n",
    "    class_id = pred_dict['class_ids'][0]\n",
    "    probability = pred_dict['probabilities'][class_id]\n",
    "\n",
    "    print('Prediction is \"{}\" ({:.1f}%)'.format(\n",
    "        SPECIES[class_id], 100 * probability))"
   ]
  }
 ],
 "metadata": {
  "kernelspec": {
   "display_name": ".venv",
   "language": "python",
   "name": "python3"
  },
  "language_info": {
   "codemirror_mode": {
    "name": "ipython",
    "version": 3
   },
   "file_extension": ".py",
   "mimetype": "text/x-python",
   "name": "python",
   "nbconvert_exporter": "python",
   "pygments_lexer": "ipython3",
   "version": "3.8.6"
  },
  "orig_nbformat": 4
 },
 "nbformat": 4,
 "nbformat_minor": 2
}
